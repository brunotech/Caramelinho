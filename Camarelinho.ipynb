{
  "nbformat": 4,
  "nbformat_minor": 0,
  "metadata": {
    "colab": {
      "provenance": [],
      "authorship_tag": "ABX9TyPXHtnhkRGDtMjPl6EClpoz",
      "include_colab_link": true
    },
    "kernelspec": {
      "name": "python3",
      "display_name": "Python 3"
    },
    "language_info": {
      "name": "python"
    }
  },
  "cells": [
    {
      "cell_type": "markdown",
      "metadata": {
        "id": "view-in-github",
        "colab_type": "text"
      },
      "source": [
        "<a href=\"https://colab.research.google.com/github/brunotech/Caramelinho/blob/main/Camarelinho.ipynb\" target=\"_parent\"><img src=\"https://colab.research.google.com/assets/colab-badge.svg\" alt=\"Open In Colab\"/></a>"
      ]
    },
    {
      "cell_type": "code",
      "source": [
        "!pip install -q -U git+https://github.com/lvwerra/trl.git git+https://github.com/huggingface/transformers.git git+https://github.com/huggingface/accelerate.git git+https://github.com/huggingface/peft.git\n",
        "!pip install -q datasets bitsandbytes einops wandb\n"
      ],
      "metadata": {
        "id": "Ka9ds24p69dn"
      },
      "execution_count": null,
      "outputs": []
    },
    {
      "cell_type": "code",
      "execution_count": null,
      "metadata": {
        "id": "hFANNMjX6qIq"
      },
      "outputs": [],
      "source": [
        "import torch\n",
        "from peft import PeftModel, PeftConfig\n",
        "from transformers import AutoModelForCausalLM, AutoTokenizer, BitsAndBytesConfig, GenerationConfig\n",
        "\n",
        "peft_model_id = \"Bruno/Caramelinho\"\n",
        "config = PeftConfig.from_pretrained(peft_model_id)\n",
        "bnb_config = BitsAndBytesConfig(\n",
        "    load_in_4bit=True,\n",
        "    bnb_4bit_quant_type=\"nf4\",\n",
        "    bnb_4bit_compute_dtype=torch.float16,\n",
        ")\n",
        "tokenizer = AutoTokenizer.from_pretrained(peft_model_id)\n",
        "model = AutoModelForCausalLM.from_pretrained(config.base_model_name_or_path,\n",
        "                                             return_dict=True,\n",
        "                                             quantization_config=bnb_config, \n",
        "                                             trust_remote_code=True, \n",
        "                                             device_map={\"\": 0})\n",
        "\n",
        "prompt_input = \"Abaixo está uma declaração que descreve uma tarefa, juntamente com uma entrada que fornece mais contexto. Escreva uma resposta que conclua corretamente a solicitação.\\n\\n ### Instrução:\\n{instruction}\\n\\n### Entrada:\\n{input}\\n\\n### Resposta:\\n\"\n",
        "prompt_no_input = \"Abaixo está uma instrução que descreve uma tarefa. Escreva uma resposta que conclua corretamente a solicitação.\\n\\n### Instrução:\\n{instruction}\\n\\n### Resposta:\\n\"\n",
        "\n",
        "def create_prompt(instruction, input=None):\n",
        "    if input:\n",
        "        return prompt_input.format(instruction=instruction, input=input)\n",
        "    else:\n",
        "        return prompt_no_input.format(instruction=instruction)\n",
        "\n",
        "def generate(\n",
        "        instruction,\n",
        "        input=None,\n",
        "        max_new_tokens=128,\n",
        "        temperature=0.1,\n",
        "        top_p=0.75,\n",
        "        top_k=40,\n",
        "        num_beams=4,\n",
        "        repetition_penalty=1.7,\n",
        "        max_length=512\n",
        "):\n",
        "    prompt = create_prompt(instruction, input)\n",
        "    inputs = tokenizer.encode_plus(prompt, return_tensors=\"pt\", truncation=True, max_length=max_length, padding=\"longest\")\n",
        "    input_ids = inputs[\"input_ids\"].to(\"cuda\")\n",
        "    attention_mask = inputs[\"attention_mask\"].to(\"cuda\")\n",
        "\n",
        "    generation_output = model.generate(\n",
        "        input_ids=input_ids,\n",
        "        attention_mask=attention_mask,\n",
        "        max_length=max_length,\n",
        "        pad_token_id=tokenizer.pad_token_id,\n",
        "        eos_token_id=tokenizer.eos_token_id,\n",
        "        temperature=temperature,\n",
        "        top_p=top_p,\n",
        "        top_k=top_k,\n",
        "        num_beams=num_beams,\n",
        "        repetition_penalty=repetition_penalty,\n",
        "        length_penalty=0.8,\n",
        "        early_stopping=True,\n",
        "        output_scores=True,\n",
        "        return_dict_in_generate=True\n",
        "    )\n",
        "\n",
        "    output = tokenizer.decode(generation_output.sequences[0], skip_special_tokens=True)\n",
        "    return output.split(\"### Resposta:\")[1]\n",
        "\n",
        "instruction = \"Descrever como funcionam os computadores quânticos.\"\n",
        "print(\"Instrução:\", instruction)\n",
        "print(\"Resposta:\", generate(instruction))\n",
        "\n"
      ]
    }
  ]
}